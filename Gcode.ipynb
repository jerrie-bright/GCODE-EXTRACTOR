{
  "nbformat": 4,
  "nbformat_minor": 0,
  "metadata": {
    "colab": {
      "name": "Gcode",
      "provenance": [],
      "collapsed_sections": []
    },
    "kernelspec": {
      "name": "python3",
      "display_name": "Python 3"
    }
  },
  "cells": [
    {
      "cell_type": "code",
      "metadata": {
        "id": "3e_JK6VkH_VH",
        "outputId": "b17c7435-b8a3-48de-b21c-67eea8922f12",
        "colab": {
          "base_uri": "https://localhost:8080/"
        }
      },
      "source": [
        "pip install xlsxwriter"
      ],
      "execution_count": 1,
      "outputs": [
        {
          "output_type": "stream",
          "text": [
            "Requirement already satisfied: xlsxwriter in /usr/local/lib/python3.6/dist-packages (1.3.7)\n"
          ],
          "name": "stdout"
        }
      ]
    },
    {
      "cell_type": "code",
      "metadata": {
        "id": "McA50gLpXbr0",
        "outputId": "65bbfcde-56a9-482d-a8c8-8d92a7787a3b",
        "colab": {
          "base_uri": "https://localhost:8080/"
        }
      },
      "source": [
        "pip install pyexcel"
      ],
      "execution_count": 2,
      "outputs": [
        {
          "output_type": "stream",
          "text": [
            "Requirement already satisfied: pyexcel in /usr/local/lib/python3.6/dist-packages (0.6.5)\n",
            "Requirement already satisfied: lml>=0.0.4 in /usr/local/lib/python3.6/dist-packages (from pyexcel) (0.1.0)\n",
            "Requirement already satisfied: texttable>=0.8.2 in /usr/local/lib/python3.6/dist-packages (from pyexcel) (1.6.3)\n",
            "Requirement already satisfied: pyexcel-io>=0.6.2 in /usr/local/lib/python3.6/dist-packages (from pyexcel) (0.6.4)\n"
          ],
          "name": "stdout"
        }
      ]
    },
    {
      "cell_type": "code",
      "metadata": {
        "id": "EiTYzDe3Hmal"
      },
      "source": [
        "from mpl_toolkits import mplot3d\n",
        "import numpy as np\n",
        "import matplotlib.pyplot as pp\n",
        "from matplotlib.animation import FuncAnimation\n",
        "pp.style.use('seaborn-pastel')\n",
        "import matplotlib.pyplot as plt\n",
        "import matplotlib.animation as animation"
      ],
      "execution_count": 3,
      "outputs": []
    },
    {
      "cell_type": "code",
      "metadata": {
        "id": "plxIlhwjbzNv"
      },
      "source": [
        "Xdot=[]\n",
        "Ydot=[]\n",
        "Zdot=[]"
      ],
      "execution_count": 4,
      "outputs": []
    },
    {
      "cell_type": "code",
      "metadata": {
        "id": "IIqXDTu7bzQc"
      },
      "source": [
        "file=open('a.txt','r')\n",
        "for line in file:\n",
        "    if line[0]=='G':\n",
        "        words=line.split()\n",
        "        for word in words:\n",
        "            if word[0]=='X':\n",
        "                w=word[1:len(word)]\n",
        "                Xdot.append(float(w))\n",
        "            elif word[0]=='Y':\n",
        "                w=word[1:len(word)]\n",
        "                Ydot.append(float(w))\n",
        "            elif word[0]=='E':\n",
        "                w=word[1:len(word)]\n",
        "                Zdot.append(w)\n",
        "for i in range(len(Zdot)):\n",
        "    if Zdot[i]=='':\n",
        "        Zdot[i]='0'\n",
        "for i in range(len(Zdot)):\n",
        "    Zdot[i]=float(Zdot[i])"
      ],
      "execution_count": 5,
      "outputs": []
    },
    {
      "cell_type": "code",
      "metadata": {
        "id": "V9uaWcq6bzTE"
      },
      "source": [
        "d = np.array(Xdot)\n",
        "d1 = np.array(Zdot)\n",
        "d2 = np.array(Ydot)"
      ],
      "execution_count": 6,
      "outputs": []
    },
    {
      "cell_type": "code",
      "metadata": {
        "id": "qd_v01FBb6TF"
      },
      "source": [
        "print(Xdot)\n",
        "print(Ydot)\n",
        "print(Zdot)"
      ],
      "execution_count": null,
      "outputs": []
    },
    {
      "cell_type": "code",
      "metadata": {
        "id": "pDKwJLFlH3cO"
      },
      "source": [
        "import xlsxwriter"
      ],
      "execution_count": 8,
      "outputs": []
    },
    {
      "cell_type": "code",
      "metadata": {
        "id": "a_K7kNURKWsv",
        "outputId": "5502a7af-ff2f-46db-db0a-05d4c98b6aea",
        "colab": {
          "base_uri": "https://localhost:8080/"
        }
      },
      "source": [
        "import pandas as pd \n",
        "  \n",
        "# create the Series \n",
        "ex1 = pd.Series(Xdot) \n",
        "  \n",
        "# displaying the Series \n",
        "print(ex1) "
      ],
      "execution_count": 9,
      "outputs": [
        {
          "output_type": "stream",
          "text": [
            "0        172.583\n",
            "1        173.479\n",
            "2        174.765\n",
            "3        175.179\n",
            "4        176.030\n",
            "          ...   \n",
            "31741    158.867\n",
            "31742    158.181\n",
            "31743    158.516\n",
            "31744    158.250\n",
            "31745    155.789\n",
            "Length: 31746, dtype: float64\n"
          ],
          "name": "stdout"
        }
      ]
    },
    {
      "cell_type": "code",
      "metadata": {
        "id": "Qib1EwZYLYda"
      },
      "source": [
        "import numpy as np\n",
        "import pandas as pd\n",
        "\n",
        "# convert to pandas DataFrames\n",
        "X_df = pd.DataFrame(Xdot)\n",
        "Y_df = pd.DataFrame(Ydot)\n",
        "Z_df = pd.DataFrame(Zdot)\n",
        "\n",
        "# Use pandas Excel Writer to create one Excel file with\n",
        "# a sheet for each array\n",
        "with pd.ExcelWriter('/content/XYZ.xlsx') as writer:\n",
        "    X_df.to_excel(writer, sheet_name='X-Coordinate')\n",
        "    Y_df.to_excel(writer, sheet_name='Y-Coordinate')\n",
        "    Z_df.to_excel(writer, sheet_name='Z-Coordinate')"
      ],
      "execution_count": 10,
      "outputs": []
    },
    {
      "cell_type": "code",
      "metadata": {
        "id": "MRQCwd9FXL7U"
      },
      "source": [
        "data = [[Xdot],[Ydot],[Zdot]]"
      ],
      "execution_count": null,
      "outputs": []
    },
    {
      "cell_type": "code",
      "metadata": {
        "id": "Mlj2kHjMXS-h"
      },
      "source": [
        "print(data)"
      ],
      "execution_count": null,
      "outputs": []
    },
    {
      "cell_type": "code",
      "metadata": {
        "id": "BPi1VzZ1XYgs"
      },
      "source": [
        "import pyexcel"
      ],
      "execution_count": null,
      "outputs": []
    },
    {
      "cell_type": "code",
      "metadata": {
        "id": "YRtY7ps1Xbuo"
      },
      "source": [
        "pyexcel.save_as(array=data, dest_file_name=\"/content/XYZ.csv\")"
      ],
      "execution_count": null,
      "outputs": []
    }
  ]
}